{
 "cells": [
  {
   "cell_type": "markdown",
   "id": "bb7c87ea-be59-41d3-84a2-05c52d3877b9",
   "metadata": {},
   "source": [
    "# Here is the code depot for any code cells that you may need incase you lose something or want to mess around in a new notebook"
   ]
  },
  {
   "cell_type": "markdown",
   "id": "3cecb1ed-4bef-453b-9e16-f802b60c5aa3",
   "metadata": {},
   "source": [
    "# Image, Json, and Folder pathing commands\n"
   ]
  },
  {
   "cell_type": "code",
   "execution_count": 1,
   "id": "98137948-39d3-46e9-b159-4e21cc75492a",
   "metadata": {},
   "outputs": [
    {
     "ename": "NameError",
     "evalue": "name 'os' is not defined",
     "output_type": "error",
     "traceback": [
      "\u001b[1;31m---------------------------------------------------------------------------\u001b[0m",
      "\u001b[1;31mNameError\u001b[0m                                 Traceback (most recent call last)",
      "Cell \u001b[1;32mIn[1], line 2\u001b[0m\n\u001b[0;32m      1\u001b[0m \u001b[38;5;66;03m# Here are the folder pathing statements, they will all be defaulted to some location.\u001b[39;00m\n\u001b[1;32m----> 2\u001b[0m image_path \u001b[38;5;241m=\u001b[39m os\u001b[38;5;241m.\u001b[39mpath\u001b[38;5;241m.\u001b[39mabspath(\u001b[38;5;124m'\u001b[39m\u001b[38;5;124mC:/Users/Public/Documents/MegaDetector/images/orinoquia-thumb-web.jpg\u001b[39m\u001b[38;5;124m'\u001b[39m)\n\u001b[0;32m      3\u001b[0m json_path \u001b[38;5;241m=\u001b[39m os\u001b[38;5;241m.\u001b[39mpath\u001b[38;5;241m.\u001b[39mabspath(\u001b[38;5;124m\"\u001b[39m\u001b[38;5;124mC:/Users/Public/Documents/jsons/tests.json\u001b[39m\u001b[38;5;124m\"\u001b[39m)\n\u001b[0;32m      4\u001b[0m folder_path \u001b[38;5;241m=\u001b[39m os\u001b[38;5;241m.\u001b[39mpath\u001b[38;5;241m.\u001b[39mabspath(\u001b[38;5;124m\"\u001b[39m\u001b[38;5;124mC:/Users/Public/Documents/MegaDetector/images\u001b[39m\u001b[38;5;124m\"\u001b[39m)\n",
      "\u001b[1;31mNameError\u001b[0m: name 'os' is not defined"
     ]
    }
   ],
   "source": [
    "# Here are the folder pathing statements, they will all be defaulted to some location.\n",
    "image_path = os.path.abspath('C:/Users/Public/Documents/MegaDetector/images/orinoquia-thumb-web.jpg') # Image path\n",
    "json_path = os.path.abspath(\"C:/Users/Public/Documents/jsons/tests.json\") # json path\n",
    "folder_path = os.path.abspath(\"C:/Users/Public/Documents/MegaDetector/images\") # Folder path"
   ]
  },
  {
   "cell_type": "markdown",
   "id": "edac8a8a-bf2d-4282-8e6c-97ff0cf22c0c",
   "metadata": {},
   "source": [
    "# single, json, and batch processing commands"
   ]
  },
  {
   "cell_type": "code",
   "execution_count": null,
   "id": "da284c96-abb4-49cc-91ba-08b02b39b8c9",
   "metadata": {},
   "outputs": [],
   "source": [
    "!python \"C:\\Users\\Public\\Documents\\MegaDetector\\megadetector\\detection\\run_detector.py\" MDV5A --image_file \"{image_path}\" --threshold 0.1 # single image\n",
    "!python \"C:/Users/Public/Documents/MegaDetector/megadetector/detection/run_detector_batch.py\" MDV5A \"{folder_path}\" \"C:/Users/Public/Documents/jsons/tests.json\" --output_relative_filenames --recursive --checkpoint_frequency 1000 --quiet # json command\n",
    "!python \"C:/Users/Public/Documents/MegaDetector/megadetector/postprocessing/postprocess_batch_results.py\" \"{json_path}\" \"{output_path}\" --image_base_dir \"{folder_path}\" --num_images_to_sample -1 # batch processing command"
   ]
  },
  {
   "cell_type": "markdown",
   "id": "84b338d8-6acf-4551-b118-b4bbf5807ce0",
   "metadata": {},
   "source": [
    "# Environment block\n",
    "* This is for setting up our environment * may not be needed but good to have just incase "
   ]
  },
  {
   "cell_type": "code",
   "execution_count": 2,
   "id": "46511cc4-4ee4-4df5-a893-e4df169c8ca6",
   "metadata": {},
   "outputs": [
    {
     "ename": "NameError",
     "evalue": "name 'os' is not defined",
     "output_type": "error",
     "traceback": [
      "\u001b[1;31m---------------------------------------------------------------------------\u001b[0m",
      "\u001b[1;31mNameError\u001b[0m                                 Traceback (most recent call last)",
      "Cell \u001b[1;32mIn[2], line 5\u001b[0m\n\u001b[0;32m      2\u001b[0m yolov5_path \u001b[38;5;241m=\u001b[39m \u001b[38;5;124m'\u001b[39m\u001b[38;5;124mC:/Users/Public/Documents/yolov5\u001b[39m\u001b[38;5;124m'\u001b[39m \n\u001b[0;32m      4\u001b[0m \u001b[38;5;66;03m# Set the PYTHONPATH environment variable\u001b[39;00m\n\u001b[1;32m----> 5\u001b[0m os\u001b[38;5;241m.\u001b[39menviron[\u001b[38;5;124m'\u001b[39m\u001b[38;5;124mPYTHONPATH\u001b[39m\u001b[38;5;124m'\u001b[39m] \u001b[38;5;241m=\u001b[39m \u001b[38;5;124mf\u001b[39m\u001b[38;5;124m\"\u001b[39m\u001b[38;5;132;01m{\u001b[39;00mmegadetector_path\u001b[38;5;132;01m}\u001b[39;00m\u001b[38;5;124m;\u001b[39m\u001b[38;5;132;01m{\u001b[39;00myolov5_path\u001b[38;5;132;01m}\u001b[39;00m\u001b[38;5;124m\"\u001b[39m\n",
      "\u001b[1;31mNameError\u001b[0m: name 'os' is not defined"
     ]
    }
   ],
   "source": [
    "megadetector_path = 'C:/Users/Public/Documents/MegaDetector/megadetector' \n",
    "yolov5_path = 'C:/Users/Public/Documents/yolov5' \n",
    "\n",
    "# Set the PYTHONPATH environment variable\n",
    "os.environ['PYTHONPATH'] = f\"{megadetector_path};{yolov5_path}\"\n",
    "\n",
    "import subprocess # we import this to run our new environment.\n",
    "\n",
    "# Activate the conda environment\n",
    "subprocess.run(['mamba', 'activate', 'cameratraps-detector'], shell=True)"
   ]
  },
  {
   "cell_type": "code",
   "execution_count": null,
   "id": "6a8e7c79-ad2b-4176-99a9-5f5dd4f788d5",
   "metadata": {},
   "outputs": [],
   "source": []
  },
  {
   "cell_type": "code",
   "execution_count": null,
   "id": "02384462-4afd-488e-933e-c0e64dcdca2c",
   "metadata": {},
   "outputs": [],
   "source": []
  }
 ],
 "metadata": {
  "kernelspec": {
   "display_name": "Python 3 (ipykernel)",
   "language": "python",
   "name": "python3"
  },
  "language_info": {
   "codemirror_mode": {
    "name": "ipython",
    "version": 3
   },
   "file_extension": ".py",
   "mimetype": "text/x-python",
   "name": "python",
   "nbconvert_exporter": "python",
   "pygments_lexer": "ipython3",
   "version": "3.11.7"
  }
 },
 "nbformat": 4,
 "nbformat_minor": 5
}
