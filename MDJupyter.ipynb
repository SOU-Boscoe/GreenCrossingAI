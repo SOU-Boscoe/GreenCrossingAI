{
 "cells": [
  {
   "cell_type": "markdown",
   "id": "a5e32eb9-7079-4c22-aa9e-6aceda126bc5",
   "metadata": {},
   "source": [
    "# Welcome to Mega Detector\n",
    "* Here you will have the steps to install, run, and alter Mega Detector for your purposes!\n",
    "There will be some code provided below that will fully install Mega Detector. "
   ]
  },
  {
   "cell_type": "markdown",
   "id": "35fb6b3c-9630-4986-8749-48cffe121cd7",
   "metadata": {},
   "source": [
    "# How To Handle Errors and Errors to Expect\n",
    "* The majority of errors you will encounter will be pathing errors.\n",
    "* This just means that the file path you have in the image, json, and output, are either incorrect, or do not exist.\n",
    "\n",
    "# how to solve these errors\n",
    "* If it exists and is a file path error, make sure you understand how Mega Detector is organized.\n",
    "* Every path starts with /home/jupyter-username/ and then the rest of the path of the file which you can get by right clicking on that folder/image and click copy path. You can paste it after the forward slash after username. The username must always be the username of the person using jupyter notebook. Currently mine is jerrybob, so mine looks like this \"/home/jupyter-jerrybob/\" Yours will look similar.\n",
    "* If it's a does not exist problem, then you need to create the file. This however should never occur unless you had a typo. if a crital file is missing, then we'll need to reupload the original MD to this notebook. This is not an ideal situation to be in and may take time to fix if you're unfamiliar with such a thing."
   ]
  },
  {
   "cell_type": "markdown",
   "id": "21b04700-a0ae-4107-a976-741abbf91ace",
   "metadata": {},
   "source": [
    "# Importing tools\n",
    "* Lets start with importing a tool. We can do this using an import statement. What is an import statement? This is to import software or tools that will allow us to do specific tasks. *\n",
    "* This is imported so that we can see where we are in the file system. this is important for MD (mege Detector)\n",
    "* We'll start off by importing OS "
   ]
  },
  {
   "cell_type": "code",
   "execution_count": 1,
   "id": "0bb91f7e-1dc1-450a-b97d-802df9deef52",
   "metadata": {},
   "outputs": [],
   "source": [
    "import os "
   ]
  },
  {
   "cell_type": "markdown",
   "id": "cb075b49-4768-4da0-b97a-54a5b3553b8b",
   "metadata": {},
   "source": [
    "# Github\n",
    "* Github is where we will get MD (Mega Detector) from.\n",
    "* There's alot of files, so we'll want to take the easy approach and clone it or copy it from that website.\n",
    "* The (git clone) command will take all the files from github and put them in our jupyter notebook.\n",
    "* We selected this repo (specific github storage area for code) because it has The core of Mega Detector."
   ]
  },
  {
   "cell_type": "code",
   "execution_count": 2,
   "id": "68a87a49-c9ea-4071-9079-5e3e098b098d",
   "metadata": {},
   "outputs": [
    {
     "name": "stdout",
     "output_type": "stream",
     "text": [
      "fatal: destination path 'MegaDetector' already exists and is not an empty directory.\n"
     ]
    }
   ],
   "source": [
    "!git clone https://github.com/agentmorris/MegaDetector.git"
   ]
  },
  {
   "cell_type": "markdown",
   "id": "d816c067-2bb1-4cbe-9146-fbca890f6083",
   "metadata": {},
   "source": [
    "# Yolov5\n",
    "* we will need another repo called yolov5. This helps us with object detection.\n",
    "* This is the second core part of Mega Detector. "
   ]
  },
  {
   "cell_type": "code",
   "execution_count": 3,
   "id": "d60dcb31-f3c1-4b2a-bb99-bb0f7f3d67c4",
   "metadata": {},
   "outputs": [
    {
     "name": "stdout",
     "output_type": "stream",
     "text": [
      "fatal: destination path 'yolov5' already exists and is not an empty directory.\n"
     ]
    }
   ],
   "source": [
    "!git clone https://github.com/ecologize/yolov5/"
   ]
  },
  {
   "cell_type": "markdown",
   "id": "d5e475d0-45c3-4b9b-8394-481bd8b37eee",
   "metadata": {},
   "source": [
    "# File pathing\n",
    "* Mega Detector relies on file pathing. So it's important to know where you are \n",
    "# print(os.getcwd())  \n",
    "* This command will show you where in the terminal you are."
   ]
  },
  {
   "cell_type": "code",
   "execution_count": 4,
   "id": "1e8c4554-6a96-4487-bac8-2bb6279b6a1a",
   "metadata": {},
   "outputs": [
    {
     "name": "stdout",
     "output_type": "stream",
     "text": [
      "/home/jupyter-jerrybob\n"
     ]
    }
   ],
   "source": [
    "print(os.getcwd()) "
   ]
  },
  {
   "cell_type": "markdown",
   "id": "c430b23f-6924-4390-a6aa-f946cac16d06",
   "metadata": {},
   "source": [
    "# Navigation \n",
    "* We will need to move around in the file system for Mega Detector.\n",
    "# Directories \n",
    "* These are how we find and use executable files in Mega Detector\n",
    "# os.chdir('git/MegaDetector') \n",
    "* This command will change the directory you are in, specifically, this will change your directory to the git/MegaDetector Directory."
   ]
  },
  {
   "cell_type": "code",
   "execution_count": 5,
   "id": "90c2db6f-e5b5-4a01-a6c5-b1557b74924d",
   "metadata": {},
   "outputs": [],
   "source": [
    "os.chdir('git/MegaDetector') "
   ]
  },
  {
   "cell_type": "markdown",
   "id": "4c491d12-c187-45f3-baba-826e8c9ba873",
   "metadata": {},
   "source": [
    "* We rerun the print(os.getcwd()) command to check that our directory change worked."
   ]
  },
  {
   "cell_type": "code",
   "execution_count": 6,
   "id": "8e4c090f-0658-407b-92a4-a89580167bc8",
   "metadata": {},
   "outputs": [
    {
     "name": "stdout",
     "output_type": "stream",
     "text": [
      "/home/jupyter-jerrybob/git/MegaDetector\n"
     ]
    }
   ],
   "source": [
    "print(os.getcwd()) "
   ]
  },
  {
   "cell_type": "markdown",
   "id": "ea66e976-0ebd-4779-a4a6-a1fb433e5e37",
   "metadata": {},
   "source": [
    "# Environment\n",
    "* In order to run Mega Detector, we need to set the MD and yolov5 paths in order to create our environment.\n",
    "* Make sure that if you are a different user that the pathing is set to your username. Replace the current username with yours and it will work. The username is located at jupyter-username down below. "
   ]
  },
  {
   "cell_type": "code",
   "execution_count": 7,
   "id": "666420d9-6647-42da-98b6-e1ee83a48809",
   "metadata": {},
   "outputs": [],
   "source": [
    "megadetector_path = '/home/jupyter-jerrybob/git/MegaDetector/megadetector' # 'jupyter-jerrybob' will be changed per user\n",
    "yolov5_path = '/home/jupyter-jerrybob/git/yolov5' # 'jupyter-jerrybob' will be changed per user\n",
    "\n",
    "# Set the PYTHONPATH environment variable\n",
    "os.environ['PYTHONPATH'] = f\"{megadetector_path};{yolov5_path}\""
   ]
  },
  {
   "cell_type": "code",
   "execution_count": 8,
   "id": "7c47a776-2088-4a0b-8bd8-eb9b64cfea8d",
   "metadata": {},
   "outputs": [
    {
     "name": "stdout",
     "output_type": "stream",
     "text": [
      "usage: mamba [-h] [-V] command ...\n",
      "\n",
      "conda is a tool for managing and deploying applications, environments and packages.\n",
      "\n",
      "Options:\n",
      "\n",
      "positional arguments:\n",
      "  command\n",
      "    clean             Remove unused packages and caches.\n",
      "    compare           Compare packages between conda environments.\n",
      "    config            Modify configuration values in .condarc. This is modeled\n",
      "                      after the git config command. Writes to the user\n",
      "                      .condarc file (/home/jupyter-jerrybob/.condarc) by\n",
      "                      default. Use the --show-sources flag to display all\n",
      "                      identified configuration locations on your computer.\n",
      "    create            Create a new conda environment from a list of specified\n",
      "                      packages.\n",
      "    info              Display information about current conda install.\n",
      "    init              Initialize conda for shell interaction.\n",
      "    install           Installs a list of packages into a specified conda\n",
      "                      environment.\n",
      "    list              List installed packages in a conda environment.\n",
      "    package           Low-level conda package utility. (EXPERIMENTAL)\n",
      "    remove (uninstall)\n",
      "                      Remove a list of packages from a specified conda\n",
      "                      environment.\n",
      "    rename            Renames an existing environment.\n",
      "    run               Run an executable in a conda environment.\n",
      "    search            Search for packages and display associated\n",
      "                      information.The input is a MatchSpec, a query language\n",
      "                      for conda packages. See examples below.\n",
      "    update (upgrade)  Updates conda packages to the latest compatible version.\n",
      "    notices           Retrieves latest channel notifications.\n",
      "    repoquery         Query repositories using mamba.\n",
      "\n",
      "options:\n",
      "  -h, --help          Show this help message and exit.\n",
      "  -V, --version       Show the conda version number and exit.\n",
      "\n",
      "conda commands available from other packages (legacy):\n",
      "  env\n"
     ]
    },
    {
     "data": {
      "text/plain": [
       "CompletedProcess(args=['mamba', 'activate', 'cameratraps-detector'], returncode=0)"
      ]
     },
     "execution_count": 8,
     "metadata": {},
     "output_type": "execute_result"
    }
   ],
   "source": [
    "import subprocess # we import this to run our new environment.\n",
    "\n",
    "# Activate the conda environment\n",
    "subprocess.run(['mamba', 'activate', 'cameratraps-detector'], shell=True)"
   ]
  },
  {
   "cell_type": "code",
   "execution_count": 9,
   "id": "b416b06e-ce7e-4183-8eea-b2d0f282a64d",
   "metadata": {},
   "outputs": [
    {
     "name": "stdout",
     "output_type": "stream",
     "text": [
      "Changed working directory to: /home/jupyter-jerrybob/git/MegaDetector/megadetector\n"
     ]
    }
   ],
   "source": [
    "os.chdir(megadetector_path)\n",
    "print(\"Changed working directory to:\", os.getcwd())"
   ]
  },
  {
   "cell_type": "markdown",
   "id": "6c6df23f-0256-4d6d-a0a4-c373423b370b",
   "metadata": {},
   "source": [
    "# Image Processing\n",
    "* MD allows us to process single or multiple images. Lets start off with single just to see how it works.\n",
    "* First we will want to select the image that we want. This will be from an image on our Jupyter notebook.\n",
    "* Anytime that you wish to select a new image, you will need to replace what is within the command. Make sure to keep the ' ' or else the command will not work.\n",
    "* file pathing will be your #1 problem because of where you are in the terminal. For jupyter notebook, the default start of a path is always /home/jupyter-username. replace username with your username. After you have that start, then you can copy the path of the image and paste it ahead. of the username/\n",
    "* lets say that I want to use the image MegaDetector/images/ase-anonymous-url.jpg\n",
    "* It will look sometihng like this ('/home/jupyter-username/git/MegaDetector/images/ase-anonymous-url.jpg')\n",
    "* git may or may not exist for you. if it does not, then just remove the git part and it will work."
   ]
  },
  {
   "cell_type": "code",
   "execution_count": 10,
   "id": "4ee11046-e55c-44ca-9168-fe2070a2c838",
   "metadata": {},
   "outputs": [],
   "source": [
    "image_path = os.path.abspath('/home/jupyter-jerrybob/git/MegaDetector/images/orinoquia-thumb-web.jpg')"
   ]
  },
  {
   "cell_type": "markdown",
   "id": "30ff4fb0-2b24-4733-aad7-e9c6fa24ff2d",
   "metadata": {},
   "source": [
    "# Commands\n",
    "* next we will want to use the python execution command to run MD on this image.\n",
    "* Since we saved the image to a variable called \" image_path \" we never have to change this command for the image.\n",
    "# Models\n",
    "* As you can see, we have MDV5A as our model we are using, this is Mega Detector model version 5 A. If you want to use a new model, you will have to add it yourself. This one works just fine currently."
   ]
  },
  {
   "cell_type": "code",
   "execution_count": 11,
   "id": "1ab2b0e9-e36f-46d6-9374-3b6e67f7916c",
   "metadata": {},
   "outputs": [
    {
     "name": "stdout",
     "output_type": "stream",
     "text": [
      "Downloading model MDV5A\n",
      "Bypassing download of already-downloaded file md_v5a.0.0.pt\n",
      "Running detector on 1 images...\n",
      "PyTorch reports 2 available CUDA devices\n",
      "GPU available: True\n",
      "Imported YOLOv5 as utils.*\n",
      "Using PyTorch version 2.3.0+cu121\n",
      "Fusing layers... \n",
      "Fusing layers... \n",
      "Model summary: 733 layers, 140054656 parameters, 0 gradients, 208.8 GFLOPs\n",
      "Model summary: 733 layers, 140054656 parameters, 0 gradients, 208.8 GFLOPs\n",
      "Sending model to GPU\n",
      "Loaded model in 2.02 seconds\n",
      "  0%|                                                     | 0/1 [00:00<?, ?it/s]/home/jupyter-jerrybob/.local/lib/python3.10/site-packages/torch/nn/modules/conv.py:456: UserWarning: Plan failed with a cudnnException: CUDNN_BACKEND_EXECUTION_PLAN_DESCRIPTOR: cudnnFinalize Descriptor Failed cudnn_status: CUDNN_STATUS_NOT_SUPPORTED (Triggered internally at ../aten/src/ATen/native/cudnn/Conv_v8.cpp:919.)\n",
      "  return F.conv2d(input, weight, bias, self.stride,\n",
      "100%|█████████████████████████████████████████████| 1/1 [00:00<00:00,  2.78it/s]\n",
      "On average, for each image,\n",
      "- loading took 0 seconds, std dev is not available\n",
      "- inference took 0.35 seconds, std dev is not available\n"
     ]
    }
   ],
   "source": [
    "!python detection/run_detector.py MDV5A --image_file \"{image_path}\" --threshold 0.1\n"
   ]
  },
  {
   "cell_type": "markdown",
   "id": "4689c387-09bb-4112-9078-69d4430591a6",
   "metadata": {},
   "source": [
    "* The now annotated image will appear in the some folder that you got it from. This is only true for this single image processing."
   ]
  },
  {
   "cell_type": "markdown",
   "id": "fb8c2cf0-f4a6-4fe4-a430-22a20be8c640",
   "metadata": {},
   "source": [
    "# Folders / multiple image processing\n",
    "* Now if you want to process multiple images and get the json file, we'll have to create a new folder path, the folder that we will be using that is filled with images, and we'll run a new command.\n",
    "* anytime that you wish to use a new folder, you'll have to change the folder path in the command.\n",
    "* The pathing convention is still the same as the single image processing. However this time it's just a folder you select and not a specific image."
   ]
  },
  {
   "cell_type": "code",
   "execution_count": 12,
   "id": "1a401ded-fccf-4e34-a543-f0ae668c63f3",
   "metadata": {},
   "outputs": [],
   "source": [
    "folder_path = os.path.abspath('/home/jupyter-jerrybob/git/MegaDetector/images')"
   ]
  },
  {
   "cell_type": "markdown",
   "id": "4a96beaf-6b21-4096-a30d-f6977d23abf1",
   "metadata": {},
   "source": [
    "# json\n",
    "* The cell below will generate the json file of the images in the folder that you selected.  \n",
    "* If you only want the json file, then you do not need to continue after this.\n",
    "* The json file will be stored in the json folder.\n",
    "* You can change the \"/home/jupyter-username/git/jsons/tests.json\" end name.\n",
    "* Right now it is tests.json. you can rename that last part to anything .json and that's what it will be saved as.\n",
    "* similar to single image processing, you can also change the MD model to whateveryone you have. This is only relevant to classification models.\n"
   ]
  },
  {
   "cell_type": "code",
   "execution_count": 13,
   "id": "77260ec5-9034-4a35-8233-8b642513d3ff",
   "metadata": {},
   "outputs": [
    {
     "name": "stdout",
     "output_type": "stream",
     "text": [
      "Downloading model MDV5A\n",
      "Bypassing download of already-downloaded file md_v5a.0.0.pt\n",
      "Warning: output file /home/jupyter-jerrybob/git/jsons/tests.json already exists and will be overwritten\n",
      "100 image files found in the input directory\n",
      "The checkpoint file will be written to /home/jupyter-jerrybob/git/jsons/md_checkpoint_20240522212454.json\n",
      "PyTorch reports 2 available CUDA devices\n",
      "GPU available: True\n",
      "Imported YOLOv5 as utils.*\n",
      "Using PyTorch version 2.3.0+cu121\n",
      "Fusing layers... \n",
      "Fusing layers... \n",
      "Model summary: 733 layers, 140054656 parameters, 0 gradients, 208.8 GFLOPs\n",
      "Model summary: 733 layers, 140054656 parameters, 0 gradients, 208.8 GFLOPs\n",
      "Sending model to GPU\n",
      "Loaded model in 2 seconds\n",
      "Loaded model in 2 seconds\n",
      "  0%|                                                   | 0/100 [00:00<?, ?it/s]/home/jupyter-jerrybob/.local/lib/python3.10/site-packages/torch/nn/modules/conv.py:456: UserWarning: Plan failed with a cudnnException: CUDNN_BACKEND_EXECUTION_PLAN_DESCRIPTOR: cudnnFinalize Descriptor Failed cudnn_status: CUDNN_STATUS_NOT_SUPPORTED (Triggered internally at ../aten/src/ATen/native/cudnn/Conv_v8.cpp:919.)\n",
      "  return F.conv2d(input, weight, bias, self.stride,\n",
      "  1%|▍                                          | 1/100 [00:00<00:33,  2.96it/s]/home/jupyter-jerrybob/.local/lib/python3.10/site-packages/torch/nn/modules/conv.py:456: UserWarning: Plan failed with a cudnnException: CUDNN_BACKEND_EXECUTION_PLAN_DESCRIPTOR: cudnnFinalize Descriptor Failed cudnn_status: CUDNN_STATUS_NOT_SUPPORTED (Triggered internally at ../aten/src/ATen/native/cudnn/Conv_v8.cpp:919.)\n",
      "  return F.conv2d(input, weight, bias, self.stride,\n",
      "/home/jupyter-jerrybob/.local/lib/python3.10/site-packages/torch/nn/modules/conv.py:456: UserWarning: Plan failed with a cudnnException: CUDNN_BACKEND_EXECUTION_PLAN_DESCRIPTOR: cudnnFinalize Descriptor Failed cudnn_status: CUDNN_STATUS_NOT_SUPPORTED (Triggered internally at ../aten/src/ATen/native/cudnn/Conv_v8.cpp:919.)\n",
      "  return F.conv2d(input, weight, bias, self.stride,\n",
      "  4%|█▋                                         | 4/100 [00:00<00:10,  9.04it/s]/home/jupyter-jerrybob/.local/lib/python3.10/site-packages/torch/nn/modules/conv.py:456: UserWarning: Plan failed with a cudnnException: CUDNN_BACKEND_EXECUTION_PLAN_DESCRIPTOR: cudnnFinalize Descriptor Failed cudnn_status: CUDNN_STATUS_NOT_SUPPORTED (Triggered internally at ../aten/src/ATen/native/cudnn/Conv_v8.cpp:919.)\n",
      "  return F.conv2d(input, weight, bias, self.stride,\n",
      "/home/jupyter-jerrybob/.local/lib/python3.10/site-packages/torch/nn/modules/conv.py:456: UserWarning: Plan failed with a cudnnException: CUDNN_BACKEND_EXECUTION_PLAN_DESCRIPTOR: cudnnFinalize Descriptor Failed cudnn_status: CUDNN_STATUS_NOT_SUPPORTED (Triggered internally at ../aten/src/ATen/native/cudnn/Conv_v8.cpp:919.)\n",
      "  return F.conv2d(input, weight, bias, self.stride,\n",
      "/home/jupyter-jerrybob/.local/lib/python3.10/site-packages/torch/nn/modules/conv.py:456: UserWarning: Plan failed with a cudnnException: CUDNN_BACKEND_EXECUTION_PLAN_DESCRIPTOR: cudnnFinalize Descriptor Failed cudnn_status: CUDNN_STATUS_NOT_SUPPORTED (Triggered internally at ../aten/src/ATen/native/cudnn/Conv_v8.cpp:919.)\n",
      "  return F.conv2d(input, weight, bias, self.stride,\n",
      "  6%|██▌                                        | 6/100 [00:00<00:09, 10.34it/s]/home/jupyter-jerrybob/.local/lib/python3.10/site-packages/torch/nn/modules/conv.py:456: UserWarning: Plan failed with a cudnnException: CUDNN_BACKEND_EXECUTION_PLAN_DESCRIPTOR: cudnnFinalize Descriptor Failed cudnn_status: CUDNN_STATUS_NOT_SUPPORTED (Triggered internally at ../aten/src/ATen/native/cudnn/Conv_v8.cpp:919.)\n",
      "  return F.conv2d(input, weight, bias, self.stride,\n",
      " 13%|█████▍                                    | 13/100 [00:00<00:04, 19.89it/s]/home/jupyter-jerrybob/.local/lib/python3.10/site-packages/torch/nn/modules/conv.py:456: UserWarning: Plan failed with a cudnnException: CUDNN_BACKEND_EXECUTION_PLAN_DESCRIPTOR: cudnnFinalize Descriptor Failed cudnn_status: CUDNN_STATUS_NOT_SUPPORTED (Triggered internally at ../aten/src/ATen/native/cudnn/Conv_v8.cpp:919.)\n",
      "  return F.conv2d(input, weight, bias, self.stride,\n",
      "/home/jupyter-jerrybob/.local/lib/python3.10/site-packages/torch/nn/modules/conv.py:456: UserWarning: Plan failed with a cudnnException: CUDNN_BACKEND_EXECUTION_PLAN_DESCRIPTOR: cudnnFinalize Descriptor Failed cudnn_status: CUDNN_STATUS_NOT_SUPPORTED (Triggered internally at ../aten/src/ATen/native/cudnn/Conv_v8.cpp:919.)\n",
      "  return F.conv2d(input, weight, bias, self.stride,\n",
      "/home/jupyter-jerrybob/.local/lib/python3.10/site-packages/torch/nn/modules/conv.py:456: UserWarning: Plan failed with a cudnnException: CUDNN_BACKEND_EXECUTION_PLAN_DESCRIPTOR: cudnnFinalize Descriptor Failed cudnn_status: CUDNN_STATUS_NOT_SUPPORTED (Triggered internally at ../aten/src/ATen/native/cudnn/Conv_v8.cpp:919.)\n",
      "  return F.conv2d(input, weight, bias, self.stride,\n",
      " 16%|██████▋                                   | 16/100 [00:01<00:04, 18.57it/s]/home/jupyter-jerrybob/.local/lib/python3.10/site-packages/torch/nn/modules/conv.py:456: UserWarning: Plan failed with a cudnnException: CUDNN_BACKEND_EXECUTION_PLAN_DESCRIPTOR: cudnnFinalize Descriptor Failed cudnn_status: CUDNN_STATUS_NOT_SUPPORTED (Triggered internally at ../aten/src/ATen/native/cudnn/Conv_v8.cpp:919.)\n",
      "  return F.conv2d(input, weight, bias, self.stride,\n",
      "/home/jupyter-jerrybob/.local/lib/python3.10/site-packages/torch/nn/modules/conv.py:456: UserWarning: Plan failed with a cudnnException: CUDNN_BACKEND_EXECUTION_PLAN_DESCRIPTOR: cudnnFinalize Descriptor Failed cudnn_status: CUDNN_STATUS_NOT_SUPPORTED (Triggered internally at ../aten/src/ATen/native/cudnn/Conv_v8.cpp:919.)\n",
      "  return F.conv2d(input, weight, bias, self.stride,\n",
      " 19%|███████▉                                  | 19/100 [00:01<00:04, 17.48it/s]/home/jupyter-jerrybob/.local/lib/python3.10/site-packages/torch/nn/modules/conv.py:456: UserWarning: Plan failed with a cudnnException: CUDNN_BACKEND_EXECUTION_PLAN_DESCRIPTOR: cudnnFinalize Descriptor Failed cudnn_status: CUDNN_STATUS_NOT_SUPPORTED (Triggered internally at ../aten/src/ATen/native/cudnn/Conv_v8.cpp:919.)\n",
      "  return F.conv2d(input, weight, bias, self.stride,\n",
      " 27%|███████████▎                              | 27/100 [00:01<00:02, 24.99it/s]/home/jupyter-jerrybob/.local/lib/python3.10/site-packages/torch/nn/modules/conv.py:456: UserWarning: Plan failed with a cudnnException: CUDNN_BACKEND_EXECUTION_PLAN_DESCRIPTOR: cudnnFinalize Descriptor Failed cudnn_status: CUDNN_STATUS_NOT_SUPPORTED (Triggered internally at ../aten/src/ATen/native/cudnn/Conv_v8.cpp:919.)\n",
      "  return F.conv2d(input, weight, bias, self.stride,\n",
      " 39%|████████████████▍                         | 39/100 [00:01<00:01, 30.93it/s]/home/jupyter-jerrybob/.local/lib/python3.10/site-packages/torch/nn/modules/conv.py:456: UserWarning: Plan failed with a cudnnException: CUDNN_BACKEND_EXECUTION_PLAN_DESCRIPTOR: cudnnFinalize Descriptor Failed cudnn_status: CUDNN_STATUS_NOT_SUPPORTED (Triggered internally at ../aten/src/ATen/native/cudnn/Conv_v8.cpp:919.)\n",
      "  return F.conv2d(input, weight, bias, self.stride,\n",
      "/home/jupyter-jerrybob/.local/lib/python3.10/site-packages/torch/nn/modules/conv.py:456: UserWarning: Plan failed with a cudnnException: CUDNN_BACKEND_EXECUTION_PLAN_DESCRIPTOR: cudnnFinalize Descriptor Failed cudnn_status: CUDNN_STATUS_NOT_SUPPORTED (Triggered internally at ../aten/src/ATen/native/cudnn/Conv_v8.cpp:919.)\n",
      "  return F.conv2d(input, weight, bias, self.stride,\n",
      " 44%|██████████████████▍                       | 44/100 [00:02<00:01, 30.65it/s]/home/jupyter-jerrybob/.local/lib/python3.10/site-packages/torch/nn/modules/conv.py:456: UserWarning: Plan failed with a cudnnException: CUDNN_BACKEND_EXECUTION_PLAN_DESCRIPTOR: cudnnFinalize Descriptor Failed cudnn_status: CUDNN_STATUS_NOT_SUPPORTED (Triggered internally at ../aten/src/ATen/native/cudnn/Conv_v8.cpp:919.)\n",
      "  return F.conv2d(input, weight, bias, self.stride,\n",
      " 95%|███████████████████████████████████████▉  | 95/100 [00:03<00:00, 41.31it/s]/home/jupyter-jerrybob/.local/lib/python3.10/site-packages/torch/nn/modules/conv.py:456: UserWarning: Plan failed with a cudnnException: CUDNN_BACKEND_EXECUTION_PLAN_DESCRIPTOR: cudnnFinalize Descriptor Failed cudnn_status: CUDNN_STATUS_NOT_SUPPORTED (Triggered internally at ../aten/src/ATen/native/cudnn/Conv_v8.cpp:919.)\n",
      "  return F.conv2d(input, weight, bias, self.stride,\n",
      "/home/jupyter-jerrybob/.local/lib/python3.10/site-packages/torch/nn/modules/conv.py:456: UserWarning: Plan failed with a cudnnException: CUDNN_BACKEND_EXECUTION_PLAN_DESCRIPTOR: cudnnFinalize Descriptor Failed cudnn_status: CUDNN_STATUS_NOT_SUPPORTED (Triggered internally at ../aten/src/ATen/native/cudnn/Conv_v8.cpp:919.)\n",
      "  return F.conv2d(input, weight, bias, self.stride,\n",
      "100%|█████████████████████████████████████████| 100/100 [00:03<00:00, 27.49it/s]\n",
      "Finished inference for 100 images in 6.34 seconds (15.77 images per second)\n",
      "Output file saved at /home/jupyter-jerrybob/git/jsons/tests.json\n",
      "Done, thanks for MegaDetect'ing!\n"
     ]
    }
   ],
   "source": [
    "!python /home/jupyter-jerrybob/git/MegaDetector/megadetector/detection/run_detector_batch.py MDV5A \"{folder_path}\" \"/home/jupyter-jerrybob/git/jsons/tests.json\" --output_relative_filenames --recursive --checkpoint_frequency 1000 --quiet"
   ]
  },
  {
   "cell_type": "markdown",
   "id": "53fcdf36-1271-49ac-8592-b4c126fed431",
   "metadata": {},
   "source": [
    "* If you plan to add the annotations to the images, then you will continue and create a json_path \n",
    "* This path will be used for the annotation box creation on the images it was created from.\n",
    "* the process is similar to gathering the image path location and it must end in .json, IE must be a json file."
   ]
  },
  {
   "cell_type": "code",
   "execution_count": 14,
   "id": "b7a69667-248a-48df-bd8f-0522e475f1f4",
   "metadata": {},
   "outputs": [],
   "source": [
    "json_path = os.path.abspath('/home/jupyter-jerrybob/git/jsons/tests.json')"
   ]
  },
  {
   "cell_type": "markdown",
   "id": "92ea96d1-efdc-489b-9bbf-23136b5ab9e0",
   "metadata": {},
   "source": [
    "* We will also need to create an output path for where we want the annotated images to go to. I created a \"detected\" folder which will be ideal for the location for the annotated images. You can use any folder that you wish, you just need to change the name in the output path."
   ]
  },
  {
   "cell_type": "code",
   "execution_count": 15,
   "id": "4c2efe3a-475b-4a30-86c5-e3a781fb11cf",
   "metadata": {},
   "outputs": [],
   "source": [
    "output_path = os.path.abspath('/home/jupyter-jerrybob/detected/')"
   ]
  },
  {
   "cell_type": "code",
   "execution_count": 16,
   "id": "bf0722d8-60a0-4ac5-a5df-f389a22e8780",
   "metadata": {},
   "outputs": [
    {
     "name": "stdout",
     "output_type": "stream",
     "text": [
      "Loading results from /home/jupyter-jerrybob/git/jsons/tests.json\n",
      "Converting results to dataframe\n",
      "Finished loading MegaDetector results for 100 images from /home/jupyter-jerrybob/git/jsons/tests.json\n",
      "Choosing default confidence threshold of 0.2 based on MD version\n",
      "100%|██████████████████████████████████████| 100/100 [00:00<00:00, 34413.39it/s]\n",
      "Finished loading and preprocessing 100 rows from detector output, predicted 62 positives.\n",
      "100%|█████████████████████████████████████████| 100/100 [00:01<00:00, 55.14it/s]\n",
      "Rendered 100 images (of 100) in 1.81 seconds (0.02 seconds per image)\n",
      "Finished writing html to /home/jupyter-jerrybob/detected/index.html\n"
     ]
    }
   ],
   "source": [
    "!python /home/jupyter-jerrybob/git/MegaDetector/megadetector/postprocessing/postprocess_batch_results.py \"{json_path}\" \"{output_path}\" --image_base_dir \"{folder_path}\" --num_images_to_sample -1"
   ]
  }
 ],
 "metadata": {
  "kernelspec": {
   "display_name": "Python 3 (ipykernel)",
   "language": "python",
   "name": "python3"
  },
  "language_info": {
   "codemirror_mode": {
    "name": "ipython",
    "version": 3
   },
   "file_extension": ".py",
   "mimetype": "text/x-python",
   "name": "python",
   "nbconvert_exporter": "python",
   "pygments_lexer": "ipython3",
   "version": "3.10.10"
  }
 },
 "nbformat": 4,
 "nbformat_minor": 5
}
