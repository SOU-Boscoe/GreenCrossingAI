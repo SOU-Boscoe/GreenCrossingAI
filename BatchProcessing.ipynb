{
 "cells": [
  {
   "cell_type": "markdown",
   "id": "9d7c49aa-58da-4a8d-8aee-78743d6ac5bf",
   "metadata": {},
   "source": [
    "# This notebook is for processing images fully in MegaDetector. This is for when you want the images to be annotated and not just the json file to be used in timelapse. "
   ]
  },
  {
   "cell_type": "markdown",
   "id": "6b9ed687-5099-41e6-8642-1ef9d882db39",
   "metadata": {},
   "source": [
    "# If you are unsure what to do here then please go back to First_time_setup so that you can learn what is going on "
   ]
  },
  {
   "cell_type": "markdown",
   "id": "fe2b3e44-cc70-4e14-ac07-2ed02aa3523e",
   "metadata": {},
   "source": [
    "# If you are experiencing errors, then please go to error_handling"
   ]
  },
  {
   "cell_type": "code",
   "execution_count": 2,
   "id": "93adc79a-a7cc-442c-9712-e0e5f4ce532d",
   "metadata": {},
   "outputs": [],
   "source": [
    "import os"
   ]
  },
  {
   "cell_type": "code",
   "execution_count": 3,
   "id": "f2c1f78d-be5c-4de5-a00c-c33014bb398d",
   "metadata": {},
   "outputs": [],
   "source": [
    "folder_path = os.path.abspath(\"C:/Users/Public/Documents/MegaDetector/images\")"
   ]
  },
  {
   "cell_type": "code",
   "execution_count": 4,
   "id": "55024dd7-2ad4-44fc-8999-92d7c53fc7a5",
   "metadata": {},
   "outputs": [
    {
     "name": "stdout",
     "output_type": "stream",
     "text": [
      "Downloading model MDV5A\n",
      "Bypassing download of already-downloaded file md_v5a.0.0.pt\n",
      "Warning: output file C:/Users/Public/Documents/jsons/tests.json already exists and will be overwritten\n",
      "67 image files found in the input directory\n",
      "The checkpoint file will be written to C:/Users/Public/Documents/jsons\\md_checkpoint_20240604200825.json\n",
      "PyTorch reports 1 available CUDA devices\n",
      "GPU available: True\n",
      "Imported YOLOv5 as utils.*\n",
      "Using PyTorch version 1.10.1\n",
      "Sending model to GPU\n",
      "Loaded model in 4.52 seconds\n",
      "Loaded model in 4.52 seconds\n",
      "Finished inference for 67 images in 7.57 seconds (8.85 images per second)\n",
      "Output file saved at C:/Users/Public/Documents/jsons/tests.json\n",
      "Done, thanks for MegaDetect'ing!\n"
     ]
    },
    {
     "name": "stderr",
     "output_type": "stream",
     "text": [
      "Fusing layers... \n",
      "Model summary: 574 layers, 139990096 parameters, 0 gradients, 207.9 GFLOPs\n",
      "\n",
      "  0%|          | 0/67 [00:00<?, ?it/s]\n",
      "  6%|5         | 4/67 [00:00<00:01, 32.32it/s]\n",
      " 12%|#1        | 8/67 [00:00<00:01, 34.86it/s]\n",
      " 18%|#7        | 12/67 [00:00<00:01, 35.22it/s]\n",
      " 24%|##3       | 16/67 [00:00<00:01, 29.32it/s]\n",
      " 30%|##9       | 20/67 [00:00<00:01, 26.83it/s]\n",
      " 36%|###5      | 24/67 [00:00<00:01, 29.39it/s]\n",
      " 42%|####1     | 28/67 [00:00<00:01, 31.56it/s]\n",
      " 48%|####7     | 32/67 [00:01<00:01, 32.84it/s]\n",
      " 54%|#####3    | 36/67 [00:01<00:00, 34.49it/s]\n",
      " 60%|#####9    | 40/67 [00:01<00:00, 32.34it/s]\n",
      " 66%|######5   | 44/67 [00:01<00:00, 29.47it/s]\n",
      " 72%|#######1  | 48/67 [00:01<00:00, 25.12it/s]\n",
      " 76%|#######6  | 51/67 [00:01<00:00, 24.90it/s]\n",
      " 82%|########2 | 55/67 [00:01<00:00, 27.21it/s]\n",
      " 88%|########8 | 59/67 [00:02<00:00, 28.18it/s]\n",
      " 93%|#########2| 62/67 [00:02<00:00, 28.57it/s]\n",
      " 97%|#########7| 65/67 [00:02<00:00, 28.06it/s]\n",
      "100%|##########| 67/67 [00:02<00:00, 28.98it/s]\n"
     ]
    }
   ],
   "source": [
    "!python \"C:/Users/Public/Documents/MegaDetector/megadetector/detection/run_detector_batch.py\" MDV5A \"{folder_path}\" \"C:/Users/Public/Documents/jsons/tests.json\" --output_relative_filenames --recursive --checkpoint_frequency 1000 --quiet"
   ]
  },
  {
   "cell_type": "code",
   "execution_count": 5,
   "id": "f73d9ad6-740e-45d1-b84a-1678e3047935",
   "metadata": {},
   "outputs": [],
   "source": [
    "json_path = os.path.abspath(\"C:/Users/Public/Documents/jsons/tests.json\")"
   ]
  },
  {
   "cell_type": "code",
   "execution_count": 6,
   "id": "e9e5b439-8ff8-4d50-a627-34b5ed7e8100",
   "metadata": {},
   "outputs": [],
   "source": [
    "output_path = os.path.abspath('C:/Users/Public/Documents/detected_test')"
   ]
  },
  {
   "cell_type": "code",
   "execution_count": 11,
   "id": "0684df0e-c7fb-40a6-9b99-7574edb0a111",
   "metadata": {},
   "outputs": [
    {
     "name": "stdout",
     "output_type": "stream",
     "text": [
      "C:\\Users\\Public\\Documents\n"
     ]
    }
   ],
   "source": [
    "print(os.getcwd()) "
   ]
  },
  {
   "cell_type": "code",
   "execution_count": 7,
   "id": "7d85fbd7-0e2c-479d-873e-fe646f8a74d3",
   "metadata": {},
   "outputs": [
    {
     "name": "stdout",
     "output_type": "stream",
     "text": [
      "Loading results from C:\\Users\\Public\\Documents\\jsons\\tests.json\n",
      "Converting results to dataframe\n",
      "Finished loading MegaDetector results for 67 images from C:\\Users\\Public\\Documents\\jsons\\tests.json\n",
      "Choosing default confidence threshold of 0.2 based on MD version\n",
      "Finished loading and preprocessing 67 rows from detector output, predicted 31 positives.\n",
      "Rendered 67 images (of 67) in 1.53 seconds (0.02 seconds per image)\n",
      "Finished writing html to C:\\Users\\Public\\Documents\\detected_test\\index.html\n"
     ]
    },
    {
     "name": "stderr",
     "output_type": "stream",
     "text": [
      "\n",
      "  0%|          | 0/67 [00:00<?, ?it/s]\n",
      "100%|##########| 67/67 [00:00<00:00, 33510.42it/s]\n",
      "\n",
      "  0%|          | 0/67 [00:00<?, ?it/s]\n",
      "  7%|7         | 5/67 [00:00<00:01, 49.18it/s]\n",
      " 19%|#9        | 13/67 [00:00<00:01, 53.54it/s]\n",
      " 28%|##8       | 19/67 [00:00<00:01, 40.52it/s]\n",
      " 43%|####3     | 29/67 [00:00<00:00, 56.73it/s]\n",
      " 58%|#####8    | 39/67 [00:00<00:00, 66.81it/s]\n",
      " 70%|#######   | 47/67 [00:01<00:00, 36.40it/s]\n",
      " 79%|#######9  | 53/67 [00:01<00:00, 35.41it/s]\n",
      " 90%|########9 | 60/67 [00:01<00:00, 41.44it/s]\n",
      " 99%|#########8| 66/67 [00:01<00:00, 44.99it/s]\n",
      "100%|##########| 67/67 [00:01<00:00, 43.84it/s]\n"
     ]
    }
   ],
   "source": [
    "!python \"C:/Users/Public/Documents/MegaDetector/megadetector/postprocessing/postprocess_batch_results.py\" \"{json_path}\" \"{output_path}\" --image_base_dir \"{folder_path}\" --num_images_to_sample -1"
   ]
  },
  {
   "cell_type": "code",
   "execution_count": null,
   "id": "58a217d0-3ec6-4489-b4ae-55b12af95f8a",
   "metadata": {},
   "outputs": [],
   "source": []
  }
 ],
 "metadata": {
  "kernelspec": {
   "display_name": "WCAI_kernel",
   "language": "python",
   "name": "wcai_kernel"
  },
  "language_info": {
   "codemirror_mode": {
    "name": "ipython",
    "version": 3
   },
   "file_extension": ".py",
   "mimetype": "text/x-python",
   "name": "python",
   "nbconvert_exporter": "python",
   "pygments_lexer": "ipython3",
   "version": "3.8.15"
  }
 },
 "nbformat": 4,
 "nbformat_minor": 5
}
