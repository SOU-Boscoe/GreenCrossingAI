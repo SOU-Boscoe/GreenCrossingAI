{
 "cells": [
  {
   "cell_type": "markdown",
   "id": "81f7d3ac-8cf8-45cd-a961-4ce2c4edef5a",
   "metadata": {},
   "source": [
    "# Welcome to Single Image processing\n",
    "* Here is where you can process a single image at a time to get a feel for Mega Detector"
   ]
  },
  {
   "cell_type": "markdown",
   "id": "e466766d-2be8-4dea-a2f1-8f112c2edfbc",
   "metadata": {},
   "source": [
    "# if you are confused how to do this then pleas go to First_time_setup as this has a guideline for you"
   ]
  },
  {
   "cell_type": "markdown",
   "id": "3fb7a225-80b1-4011-b11c-348e0b6e5cd4",
   "metadata": {},
   "source": [
    "* All that is needed to be done is to select what image that you want to use and put the path of that image in the image path section below.\n",
    "* Currently there is 'C:/Users/Public/Documents/MegaDetector/images/orinoquia-thumb-web.jpg', keep the same formatting as what is here because windows copy past adds back slashes like this : \"C:\\Users\\Public\\Documents\\MegaDetector\\images\\orinoquia-thumb-web.jpg\" and the backslashes do not work, you will have to turn them to forward slashes.\n",
    "* It does not matter where the image is located within the computer."
   ]
  },
  {
   "cell_type": "code",
   "execution_count": 2,
   "id": "c7f9a200-0afe-4c59-8fb4-7feaf4b4b49d",
   "metadata": {},
   "outputs": [
    {
     "name": "stdout",
     "output_type": "stream",
     "text": [
      "Downloading model MDV5A\n",
      "Bypassing download of already-downloaded file md_v5a.0.0.pt\n",
      "Running detector on 1 images...\n",
      "PyTorch reports 1 available CUDA devices\n",
      "GPU available: True\n",
      "Imported YOLOv5 as utils.*\n",
      "Using PyTorch version 1.10.1\n",
      "Sending model to GPU\n",
      "Loaded model in 8.06 seconds\n",
      "On average, for each image,\n",
      "- loading took 0.01 seconds, std dev is not available\n",
      "- inference took 0.07 seconds, std dev is not available\n"
     ]
    },
    {
     "name": "stderr",
     "output_type": "stream",
     "text": [
      "Fusing layers... \n",
      "Model summary: 574 layers, 139990096 parameters, 0 gradients, 207.9 GFLOPs\n",
      "\n",
      "  0%|          | 0/1 [00:00<?, ?it/s]\n",
      "100%|##########| 1/1 [00:00<00:00, 10.78it/s]\n"
     ]
    }
   ],
   "source": [
    "import os\n",
    "image_path = os.path.abspath('C:/Users/Public/Documents/MegaDetector/images/orinoquia-thumb-web.jpg')\n",
    "!python \"C:\\Users\\Public\\Documents\\MegaDetector\\megadetector\\detection\\run_detector.py\" MDV5A --image_file \"{image_path}\" --threshold 0.1\n"
   ]
  }
 ],
 "metadata": {
  "kernelspec": {
   "display_name": "Python 3 (ipykernel)",
   "language": "python",
   "name": "python3"
  },
  "language_info": {
   "codemirror_mode": {
    "name": "ipython",
    "version": 3
   },
   "file_extension": ".py",
   "mimetype": "text/x-python",
   "name": "python",
   "nbconvert_exporter": "python",
   "pygments_lexer": "ipython3",
   "version": "3.11.7"
  }
 },
 "nbformat": 4,
 "nbformat_minor": 5
}
