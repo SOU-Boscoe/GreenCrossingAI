{
 "cells": [
  {
   "cell_type": "markdown",
   "id": "a5e32eb9-7079-4c22-aa9e-6aceda126bc5",
   "metadata": {},
   "source": [
    "# Welcome to Mega Detector\n",
    "* Here you will have the steps to install, run, and alter Mega Detector for your purposes!\n",
    "There will be some code provided below that will fully install Mega Detector. "
   ]
  },
  {
   "cell_type": "markdown",
   "id": "21b04700-a0ae-4107-a976-741abbf91ace",
   "metadata": {},
   "source": [
    "# Importing tools\n",
    "* Lets start with importing a tool. We can do this using an import statement. What is an import statement? This is to import software or tools that will allow us to do specific tasks. *\n",
    "* This is imported so that we can see where we are in the file system. this is important for MD (mege Detector)\n",
    "* We'll start off by importing OS "
   ]
  },
  {
   "cell_type": "code",
   "execution_count": 1,
   "id": "0bb91f7e-1dc1-450a-b97d-802df9deef52",
   "metadata": {},
   "outputs": [],
   "source": [
    "import os "
   ]
  },
  {
   "cell_type": "markdown",
   "id": "cb075b49-4768-4da0-b97a-54a5b3553b8b",
   "metadata": {},
   "source": [
    "# Where to find MD on github if needed\n",
    "* Github is where we will get MD (Mega Detector) from.\n",
    "* There's alot of files, so we'll want to take the easy approach and clone it or copy it from that website.\n",
    "* The (git clone) command will take all the files from github and put them in our jupyter notebook.\n",
    "* We selected this repo (specific github storage area for code) because it has The core of Mega Detector."
   ]
  },
  {
   "cell_type": "code",
   "execution_count": 2,
   "id": "68a87a49-c9ea-4071-9079-5e3e098b098d",
   "metadata": {},
   "outputs": [],
   "source": [
    "# !git clone https://github.com/agentmorris/MegaDetector.git"
   ]
  },
  {
   "cell_type": "markdown",
   "id": "d816c067-2bb1-4cbe-9146-fbca890f6083",
   "metadata": {},
   "source": [
    "# Yolov5 If Needed\n",
    "* we will need another repo called yolov5. This helps us with object detection.\n",
    "* This is the second core part of Mega Detector. "
   ]
  },
  {
   "cell_type": "code",
   "execution_count": 3,
   "id": "d60dcb31-f3c1-4b2a-bb99-bb0f7f3d67c4",
   "metadata": {},
   "outputs": [],
   "source": [
    "# !git clone https://github.com/ecologize/yolov5/"
   ]
  },
  {
   "cell_type": "markdown",
   "id": "d5e475d0-45c3-4b9b-8394-481bd8b37eee",
   "metadata": {},
   "source": [
    "# File pathing\n",
    "* Mega Detector relies on file pathing. Lets go over some examples of it\n",
    "# print(os.getcwd())  \n",
    "* This command will show you where in the terminal you are."
   ]
  },
  {
   "cell_type": "code",
   "execution_count": 4,
   "id": "1e8c4554-6a96-4487-bac8-2bb6279b6a1a",
   "metadata": {},
   "outputs": [
    {
     "name": "stdout",
     "output_type": "stream",
     "text": [
      "C:\\Users\\Public\\Documents\n"
     ]
    }
   ],
   "source": [
    "print(os.getcwd()) "
   ]
  },
  {
   "cell_type": "markdown",
   "id": "c430b23f-6924-4390-a6aa-f946cac16d06",
   "metadata": {},
   "source": [
    "# Navigation \n",
    "* We may need to move around in the file system for Mega Detector.\n",
    "# Directories \n",
    "* These are how we find and use executable files in Mega Detector\n",
    "# os.chdir('git/MegaDetector') \n",
    "* This command will change the directory you are in, specifically, this will change your directory to the git/MegaDetector Directory."
   ]
  },
  {
   "cell_type": "code",
   "execution_count": 5,
   "id": "90c2db6f-e5b5-4a01-a6c5-b1557b74924d",
   "metadata": {},
   "outputs": [],
   "source": [
    "os.chdir('megadetector') "
   ]
  },
  {
   "cell_type": "markdown",
   "id": "4c491d12-c187-45f3-baba-826e8c9ba873",
   "metadata": {},
   "source": [
    "* We rerun the print(os.getcwd()) command to check that our directory change worked."
   ]
  },
  {
   "cell_type": "code",
   "execution_count": 6,
   "id": "8e4c090f-0658-407b-92a4-a89580167bc8",
   "metadata": {},
   "outputs": [
    {
     "name": "stdout",
     "output_type": "stream",
     "text": [
      "C:\\Users\\Public\\Documents\\megadetector\n"
     ]
    }
   ],
   "source": [
    "print(os.getcwd()) "
   ]
  },
  {
   "cell_type": "markdown",
   "id": "ea66e976-0ebd-4779-a4a6-a1fb433e5e37",
   "metadata": {},
   "source": [
    "# Environment\n",
    "* In order to run Mega Detector, we need to set the MD and yolov5 paths in order to create our environment.\n",
    "* Make sure that if you are a different user that the pathing is set to your username. Replace the current username with yours and it will work. The username is located at jupyter-username down below. "
   ]
  },
  {
   "cell_type": "code",
   "execution_count": 17,
   "id": "666420d9-6647-42da-98b6-e1ee83a48809",
   "metadata": {},
   "outputs": [],
   "source": [
    "megadetector_path = 'C:/Users/Public/Documents/MegaDetector/megadetector' \n",
    "yolov5_path = 'C:/Users/Public/Documents/yolov5' \n",
    "\n",
    "# Set the PYTHONPATH environment variable\n",
    "os.environ['PYTHONPATH'] = f\"{megadetector_path};{yolov5_path}\""
   ]
  },
  {
   "cell_type": "code",
   "execution_count": 8,
   "id": "7c47a776-2088-4a0b-8bd8-eb9b64cfea8d",
   "metadata": {},
   "outputs": [
    {
     "data": {
      "text/plain": [
       "CompletedProcess(args=['mamba', 'activate', 'cameratraps-detector'], returncode=1)"
      ]
     },
     "execution_count": 8,
     "metadata": {},
     "output_type": "execute_result"
    }
   ],
   "source": [
    "import subprocess # we import this to run our new environment.\n",
    "\n",
    "# Activate the conda environment\n",
    "subprocess.run(['mamba', 'activate', 'cameratraps-detector'], shell=True)"
   ]
  },
  {
   "cell_type": "code",
   "execution_count": 9,
   "id": "b416b06e-ce7e-4183-8eea-b2d0f282a64d",
   "metadata": {},
   "outputs": [
    {
     "name": "stdout",
     "output_type": "stream",
     "text": [
      "Changed working directory to: C:\\Users\\Public\\Documents\\MegaDetector_App\\MegaDetector\n"
     ]
    }
   ],
   "source": [
    "os.chdir(megadetector_path)\n",
    "print(\"Changed working directory to:\", os.getcwd())"
   ]
  },
  {
   "cell_type": "markdown",
   "id": "6c6df23f-0256-4d6d-a0a4-c373423b370b",
   "metadata": {},
   "source": [
    "# Image Processing\n",
    "* MD allows us to process single or multiple images. Lets start off with single just to see how it works.\n",
    "* First we will want to select the image that we want. This will be from an image on our Jupyter notebook.\n",
    "* Anytime that you wish to select a new image, you will need to replace what is within the command. Make sure to keep the ' ' or \" \" or else the command will not work.\n",
    "* file pathing will be your #1 problem because of where you are in the terminal. For jupyter notebook, the default start of a path is always C:/users/Documents/MegaDetector.\n",
    "* lets say that I want to use the image MegaDetector/images/orinoquia-thumb-web.jpg\n",
    "* It will look exactly like this ('C:/Users/Public/Documents/MegaDetector/images/orinoquia-thumb-web.jpg')"
   ]
  },
  {
   "cell_type": "code",
   "execution_count": 10,
   "id": "4ee11046-e55c-44ca-9168-fe2070a2c838",
   "metadata": {},
   "outputs": [],
   "source": [
    "image_path = os.path.abspath('C:/Users/Public/Documents/MegaDetector/images/orinoquia-thumb-web.jpg')"
   ]
  },
  {
   "cell_type": "markdown",
   "id": "30ff4fb0-2b24-4733-aad7-e9c6fa24ff2d",
   "metadata": {},
   "source": [
    "# Commands\n",
    "* next we will want to use the python execution command to run MD on this image.\n",
    "* Since we saved the image to a variable called \" image_path \" we never have to change this command for the image.\n",
    "# Models\n",
    "* As you can see, we have MDV5A as our model we are using, this is Mega Detector model version 5 A. If you want to use a new model, you will have to add it yourself. This one works just fine currently."
   ]
  },
  {
   "cell_type": "code",
   "execution_count": 11,
   "id": "1ab2b0e9-e36f-46d6-9374-3b6e67f7916c",
   "metadata": {},
   "outputs": [
    {
     "name": "stdout",
     "output_type": "stream",
     "text": [
      "Downloading model MDV5A\n",
      "Bypassing download of already-downloaded file md_v5a.0.0.pt\n",
      "Running detector on 1 images...\n",
      "PyTorch reports 1 available CUDA devices\n",
      "GPU available: True\n",
      "Imported YOLOv5 as utils.*\n",
      "Using PyTorch version 1.10.1\n",
      "Sending model to GPU\n",
      "Loaded model in 4.26 seconds\n",
      "On average, for each image,\n",
      "- loading took 0.02 seconds, std dev is not available\n",
      "- inference took 0.03 seconds, std dev is not available\n"
     ]
    },
    {
     "name": "stderr",
     "output_type": "stream",
     "text": [
      "Fusing layers... \n",
      "Model summary: 574 layers, 139990096 parameters, 0 gradients, 207.9 GFLOPs\n",
      "\n",
      "  0%|          | 0/1 [00:00<?, ?it/s]\n",
      "100%|##########| 1/1 [00:00<00:00, 16.00it/s]\n"
     ]
    }
   ],
   "source": [
    "!python \"C:\\Users\\Public\\Documents\\MegaDetector\\megadetector\\detection\\run_detector.py\" MDV5A --image_file \"{image_path}\" --threshold 0.1\n"
   ]
  },
  {
   "cell_type": "markdown",
   "id": "4689c387-09bb-4112-9078-69d4430591a6",
   "metadata": {},
   "source": [
    "* The now annotated image will appear in the some folder that you got it from. This is only true for this single image processing."
   ]
  },
  {
   "cell_type": "markdown",
   "id": "fb8c2cf0-f4a6-4fe4-a430-22a20be8c640",
   "metadata": {},
   "source": [
    "# Folders / multiple image processing\n",
    "* Now if you want to process multiple images and get the json file, we'll have to create a new folder path, the folder that we will be using that is filled with images, and we'll run a new command.\n",
    "* anytime that you wish to use a new folder, you'll have to change the folder path in the command.\n",
    "* The pathing convention is still the same as the single image processing. However this time it's just a folder you select and not a specific image."
   ]
  },
  {
   "cell_type": "code",
   "execution_count": 12,
   "id": "1a401ded-fccf-4e34-a543-f0ae668c63f3",
   "metadata": {},
   "outputs": [],
   "source": [
    "folder_path = os.path.abspath(\"C:/Users/Public/Documents/MegaDetector/images\")"
   ]
  },
  {
   "cell_type": "markdown",
   "id": "4a96beaf-6b21-4096-a30d-f6977d23abf1",
   "metadata": {},
   "source": [
    "# json\n",
    "* The cell below will generate the json file of the images in the folder that you selected.  \n",
    "* If you only want the json file, then you do not need to continue after this.\n",
    "* The json file will be stored in the json folder.\n",
    "* You can change where the json is stored \"/Users/Public/Documens/jsons/tests.json\" end name.\n",
    "* Right now it is tests.json. you can rename that last part to anything .json and that's what it will be saved as.\n",
    "* similar to single image processing, you can also change the MD model to whateveryone you have. This is only relevant to classification models.\n"
   ]
  },
  {
   "cell_type": "code",
   "execution_count": 13,
   "id": "77260ec5-9034-4a35-8233-8b642513d3ff",
   "metadata": {},
   "outputs": [
    {
     "name": "stdout",
     "output_type": "stream",
     "text": [
      "Downloading model MDV5A\n",
      "Bypassing download of already-downloaded file md_v5a.0.0.pt\n",
      "Warning: output file C:/Users/Public/Documents/jsons/tests.json already exists and will be overwritten\n",
      "67 image files found in the input directory\n",
      "The checkpoint file will be written to C:/Users/Public/Documents/jsons\\md_checkpoint_20240604195622.json\n",
      "PyTorch reports 1 available CUDA devices\n",
      "GPU available: True\n",
      "Imported YOLOv5 as utils.*\n",
      "Using PyTorch version 1.10.1\n",
      "Sending model to GPU\n",
      "Loaded model in 4.22 seconds\n",
      "Loaded model in 4.22 seconds\n",
      "Finished inference for 67 images in 7.24 seconds (9.26 images per second)\n",
      "Output file saved at C:/Users/Public/Documents/jsons/tests.json\n",
      "Done, thanks for MegaDetect'ing!\n"
     ]
    },
    {
     "name": "stderr",
     "output_type": "stream",
     "text": [
      "Fusing layers... \n",
      "Model summary: 574 layers, 139990096 parameters, 0 gradients, 207.9 GFLOPs\n",
      "\n",
      "  0%|          | 0/67 [00:00<?, ?it/s]\n",
      "  6%|5         | 4/67 [00:00<00:01, 32.00it/s]\n",
      " 12%|#1        | 8/67 [00:00<00:01, 34.54it/s]\n",
      " 18%|#7        | 12/67 [00:00<00:01, 35.44it/s]\n",
      " 24%|##3       | 16/67 [00:00<00:01, 28.10it/s]\n",
      " 28%|##8       | 19/67 [00:00<00:01, 25.59it/s]\n",
      " 34%|###4      | 23/67 [00:00<00:01, 28.35it/s]\n",
      " 40%|####      | 27/67 [00:00<00:01, 31.16it/s]\n",
      " 46%|####6     | 31/67 [00:01<00:01, 32.54it/s]\n",
      " 52%|#####2    | 35/67 [00:01<00:00, 33.87it/s]\n",
      " 58%|#####8    | 39/67 [00:01<00:00, 34.63it/s]\n",
      " 64%|######4   | 43/67 [00:01<00:00, 30.04it/s]\n",
      " 70%|#######   | 47/67 [00:01<00:00, 25.59it/s]\n",
      " 75%|#######4  | 50/67 [00:01<00:00, 24.05it/s]\n",
      " 81%|########  | 54/67 [00:01<00:00, 26.13it/s]\n",
      " 87%|########6 | 58/67 [00:01<00:00, 27.72it/s]\n",
      " 93%|#########2| 62/67 [00:02<00:00, 28.92it/s]\n",
      " 97%|#########7| 65/67 [00:02<00:00, 28.50it/s]\n",
      "100%|##########| 67/67 [00:02<00:00, 28.78it/s]\n"
     ]
    }
   ],
   "source": [
    "!python \"C:/Users/Public/Documents/MegaDetector/megadetector/detection/run_detector_batch.py\" MDV5A \"{folder_path}\" \"C:/Users/Public/Documents/jsons/tests.json\" --output_relative_filenames --recursive --checkpoint_frequency 1000 --quiet"
   ]
  },
  {
   "cell_type": "markdown",
   "id": "53fcdf36-1271-49ac-8592-b4c126fed431",
   "metadata": {},
   "source": [
    "* If you plan to add the annotations to the images, then you will continue and create a json_path \n",
    "* This path will be used for the annotation box creation on the images it was created from.\n",
    "* the process is similar to gathering the image path location and it must end in .json, IE must be a json file."
   ]
  },
  {
   "cell_type": "code",
   "execution_count": 14,
   "id": "b7a69667-248a-48df-bd8f-0522e475f1f4",
   "metadata": {},
   "outputs": [],
   "source": [
    "json_path = os.path.abspath(\"C:/Users/Public/Documents/jsons/tests.json\")"
   ]
  },
  {
   "cell_type": "markdown",
   "id": "92ea96d1-efdc-489b-9bbf-23136b5ab9e0",
   "metadata": {},
   "source": [
    "* We will also need to create an output path for where we want the annotated images to go to. I created a \"detected\" folder which will be ideal for the location for the annotated images. You can use any folder that you wish, you just need to change the name in the output path."
   ]
  },
  {
   "cell_type": "code",
   "execution_count": 15,
   "id": "4c2efe3a-475b-4a30-86c5-e3a781fb11cf",
   "metadata": {},
   "outputs": [],
   "source": [
    "output_path = os.path.abspath('C:/Users/Public/Documents/detected')"
   ]
  },
  {
   "cell_type": "code",
   "execution_count": 16,
   "id": "bf0722d8-60a0-4ac5-a5df-f389a22e8780",
   "metadata": {},
   "outputs": [
    {
     "name": "stdout",
     "output_type": "stream",
     "text": [
      "Loading results from C:\\Users\\Public\\Documents\\jsons\\tests.json\n",
      "Converting results to dataframe\n",
      "Finished loading MegaDetector results for 67 images from C:\\Users\\Public\\Documents\\jsons\\tests.json\n",
      "Choosing default confidence threshold of 0.2 based on MD version\n",
      "Finished loading and preprocessing 67 rows from detector output, predicted 31 positives.\n",
      "Rendered 67 images (of 67) in 1.5 seconds (0.02 seconds per image)\n",
      "Finished writing html to C:\\Users\\Public\\Documents\\detected\\index.html\n"
     ]
    },
    {
     "name": "stderr",
     "output_type": "stream",
     "text": [
      "\n",
      "  0%|          | 0/67 [00:00<?, ?it/s]\n",
      "100%|##########| 67/67 [00:00<?, ?it/s]\n",
      "\n",
      "  0%|          | 0/67 [00:00<?, ?it/s]\n",
      "  9%|8         | 6/67 [00:00<00:01, 54.84it/s]\n",
      " 19%|#9        | 13/67 [00:00<00:00, 55.56it/s]\n",
      " 28%|##8       | 19/67 [00:00<00:01, 44.22it/s]\n",
      " 43%|####3     | 29/67 [00:00<00:00, 59.94it/s]\n",
      " 60%|#####9    | 40/67 [00:00<00:00, 66.88it/s]\n",
      " 70%|#######   | 47/67 [00:01<00:00, 37.04it/s]\n",
      " 79%|#######9  | 53/67 [00:01<00:00, 35.26it/s]\n",
      " 90%|########9 | 60/67 [00:01<00:00, 40.99it/s]\n",
      " 99%|#########8| 66/67 [00:01<00:00, 44.76it/s]\n",
      "100%|##########| 67/67 [00:01<00:00, 44.66it/s]\n"
     ]
    }
   ],
   "source": [
    "!python \"C:/Users/Public/Documents/MegaDetector/megadetector/postprocessing/postprocess_batch_results.py\" \"{json_path}\" \"{output_path}\" --image_base_dir \"{folder_path}\" --num_images_to_sample -1"
   ]
  },
  {
   "cell_type": "markdown",
   "id": "01751381-ec63-464c-8d78-b95e4e3f29ff",
   "metadata": {},
   "source": [
    "# Video Processing\n",
    "* Now we will handle the situation of video feed. Our commands above do not work on video feed. However, MegaDetector has a file that allows us to turn each from of a video into an image. Then we can store that into a folder and then run our json command on that new folder."
   ]
  }
 ],
 "metadata": {
  "kernelspec": {
   "display_name": "WCAI_kernel",
   "language": "python",
   "name": "wcai_kernel"
  },
  "language_info": {
   "codemirror_mode": {
    "name": "ipython",
    "version": 3
   },
   "file_extension": ".py",
   "mimetype": "text/x-python",
   "name": "python",
   "nbconvert_exporter": "python",
   "pygments_lexer": "ipython3",
   "version": "3.8.15"
  }
 },
 "nbformat": 4,
 "nbformat_minor": 5
}
