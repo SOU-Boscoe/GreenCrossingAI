{
 "cells": [
  {
   "cell_type": "markdown",
   "id": "24f7d466-eaf0-48d4-85d7-32d2d9126af1",
   "metadata": {},
   "source": [
    "# This notebook is to take apart video feed and turn each frame into an image that then can be run in MegaDetector."
   ]
  },
  {
   "cell_type": "code",
   "execution_count": null,
   "id": "edc5ba85-5b34-4b53-aac7-79628167448a",
   "metadata": {},
   "outputs": [],
   "source": []
  }
 ],
 "metadata": {
  "kernelspec": {
   "display_name": "Python 3 (ipykernel)",
   "language": "python",
   "name": "python3"
  },
  "language_info": {
   "codemirror_mode": {
    "name": "ipython",
    "version": 3
   },
   "file_extension": ".py",
   "mimetype": "text/x-python",
   "name": "python",
   "nbconvert_exporter": "python",
   "pygments_lexer": "ipython3",
   "version": "3.11.7"
  }
 },
 "nbformat": 4,
 "nbformat_minor": 5
}
